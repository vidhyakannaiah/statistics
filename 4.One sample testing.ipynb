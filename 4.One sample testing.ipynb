{
 "cells": [
  {
   "cell_type": "code",
   "execution_count": 17,
   "metadata": {},
   "outputs": [],
   "source": [
    "import numpy as np\n",
    "from scipy.stats import ttest_1samp, wilcoxon\n",
    "from statsmodels.stats.power import ttest_power\n",
    "\n",
    "import matplotlib.pyplot as plt\n"
   ]
  },
  {
   "cell_type": "code",
   "execution_count": 18,
   "metadata": {},
   "outputs": [],
   "source": [
    "daily_intake = np.array([5260,5470,5640,6180,6390,6515,6805,7515,75158230,8770])"
   ]
  },
  {
   "cell_type": "code",
   "execution_count": 19,
   "metadata": {},
   "outputs": [
    {
     "name": "stdout",
     "output_type": "stream",
     "text": [
      "0.999837660787 0.343510795982\n"
     ]
    }
   ],
   "source": [
    "#one sample t-test\n",
    "#null hypothesis\n",
    "t_statistic, p_value = ttest_1samp(daily_intake,7725)\n",
    "print(t_statistic,p_value)"
   ]
  },
  {
   "cell_type": "code",
   "execution_count": 20,
   "metadata": {},
   "outputs": [
    {
     "name": "stdout",
     "output_type": "stream",
     "text": [
      "one sample t-test p-value =  0.343510795982\n"
     ]
    }
   ],
   "source": [
    "#p value <0.05 => alternate hypothesis\n",
    "#data deviate significantly from the hypothesis\n",
    "print(\"one sample t-test p-value = \", p_value)"
   ]
  },
  {
   "cell_type": "code",
   "execution_count": 21,
   "metadata": {},
   "outputs": [
    {
     "name": "stdout",
     "output_type": "stream",
     "text": [
      "one sample wilcoxon test p-value =  0.284502697911\n"
     ]
    }
   ],
   "source": [
    "z_statistic, p_value  = wilcoxon(daily_intake-7225)\n",
    "print(\"one sample wilcoxon test p-value = \", p_value)"
   ]
  },
  {
   "cell_type": "code",
   "execution_count": 22,
   "metadata": {},
   "outputs": [
    {
     "data": {
      "text/plain": [
       "0.33330139761967131"
      ]
     },
     "execution_count": 22,
     "metadata": {},
     "output_type": "execute_result"
    }
   ],
   "source": [
    "# Calculating power of test\n",
    "# compute the difference in means between sample and population \n",
    "# Set the number of observation\n",
    "# Set the alpha value and alternative values \n",
    "(np.mean(daily_intake)-7225)/np.std(daily_intake)"
   ]
  },
  {
   "cell_type": "code",
   "execution_count": 23,
   "metadata": {},
   "outputs": [
    {
     "name": "stdout",
     "output_type": "stream",
     "text": [
      "0.760014659598\n"
     ]
    }
   ],
   "source": [
    "print(ttest_power(-0.892,nobs=11,alpha=0.05,alternative='two-sided'))"
   ]
  },
  {
   "cell_type": "code",
   "execution_count": 24,
   "metadata": {},
   "outputs": [
    {
     "data": {
      "text/plain": [
       "(array([ 9.,  0.,  0.,  0.,  0.,  0.,  0.,  0.,  0.,  1.]),\n",
       " array([  5.26000000e+03,   7.52055700e+06,   1.50358540e+07,\n",
       "          2.25511510e+07,   3.00664480e+07,   3.75817450e+07,\n",
       "          4.50970420e+07,   5.26123390e+07,   6.01276360e+07,\n",
       "          6.76429330e+07,   7.51582300e+07]),\n",
       " <a list of 10 Patch objects>)"
      ]
     },
     "execution_count": 24,
     "metadata": {},
     "output_type": "execute_result"
    }
   ],
   "source": [
    "plt.hist(daily_intake)\n"
   ]
  },
  {
   "cell_type": "code",
   "execution_count": 25,
   "metadata": {},
   "outputs": [
    {
     "data": {
      "image/png": "[encoded data removed]",
      "text/plain": [
       "<matplotlib.figure.Figure at 0x1e3dc90b940>"
      ]
     },
     "metadata": {},
     "output_type": "display_data"
    }
   ],
   "source": [
    "plt.show()"
   ]
  },
  {
   "cell_type": "code",
   "execution_count": 26,
   "metadata": {},
   "outputs": [
    {
     "data": {
      "text/plain": [
       "{'boxes': [<matplotlib.lines.Line2D at 0x1e3dcb30588>],\n",
       " 'caps': [<matplotlib.lines.Line2D at 0x1e3dcb3b0f0>,\n",
       "  <matplotlib.lines.Line2D at 0x1e3dcb3b550>],\n",
       " 'fliers': [<matplotlib.lines.Line2D at 0x1e3dcb3be10>],\n",
       " 'means': [],\n",
       " 'medians': [<matplotlib.lines.Line2D at 0x1e3dcb3b9b0>],\n",
       " 'whiskers': [<matplotlib.lines.Line2D at 0x1e3dcb307b8>,\n",
       "  <matplotlib.lines.Line2D at 0x1e3dcb30c50>]}"
      ]
     },
     "execution_count": 26,
     "metadata": {},
     "output_type": "execute_result"
    }
   ],
   "source": [
    "plt.boxplot(daily_intake)"
   ]
  },
  {
   "cell_type": "code",
   "execution_count": 27,
   "metadata": {},
   "outputs": [
    {
     "data": {
      "image/png": "[encoded data removed]",
      "text/plain": [
       "<matplotlib.figure.Figure at 0x1e3dcaeeba8>"
      ]
     },
     "metadata": {},
     "output_type": "display_data"
    }
   ],
   "source": [
    "plt.show()"
   ]
  },
  {
   "cell_type": "code",
   "execution_count": null,
   "metadata": {
    "collapsed": true
   },
   "outputs": [],
   "source": []
  }
 ],
 "metadata": {
  "kernelspec": {
   "display_name": "Python 3",
   "language": "python",
   "name": "python3"
  },
  "language_info": {
   "codemirror_mode": {
    "name": "ipython",
    "version": 3
   },
   "file_extension": ".py",
   "mimetype": "text/x-python",
   "name": "python",
   "nbconvert_exporter": "python",
   "pygments_lexer": "ipython3",
   "version": "3.6.3"
  }
 },
 "nbformat": 4,
 "nbformat_minor": 2
}
